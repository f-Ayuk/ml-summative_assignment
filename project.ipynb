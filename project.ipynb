{
 "cells": [
  {
   "cell_type": "code",
   "execution_count": null,
   "id": "db257322",
   "metadata": {
    "vscode": {
     "languageId": "plaintext"
    }
   },
   "outputs": [],
   "source": [
    "import pandas as pd\n",
    "import numpy as np\n",
    "import matplotlib.pyplot as plt\n",
    "import seaborn as sns\n",
    "from sklearn.preprocessing import LabelEncoder, StandardScaler\n",
    "from statsmodels.stats.outliers_influence import variance_inflation_factor"
   ]
  },
  {
   "cell_type": "code",
   "execution_count": null,
   "id": "d42107f4",
   "metadata": {
    "vscode": {
     "languageId": "plaintext"
    }
   },
   "outputs": [],
   "source": [
    "# Load the dataset\n",
    "df = pd.read_csv(\"flight_delays.csv\")  # Replace with your actual dataset path\n",
    "print(\"Dataset Loaded\")"
   ]
  },
  {
   "cell_type": "code",
   "execution_count": null,
   "id": "e12f3c2b",
   "metadata": {
    "vscode": {
     "languageId": "plaintext"
    }
   },
   "outputs": [],
   "source": [
    "# Initial overview\n",
    "print(df.info())\n",
    "print(df.describe())\n",
    "print(df.head())"
   ]
  },
  {
   "cell_type": "code",
   "execution_count": null,
   "id": "a87636f5",
   "metadata": {
    "vscode": {
     "languageId": "plaintext"
    }
   },
   "outputs": [],
   "source": [
    "# Target Variable: Delay Minutes\n",
    "plt.figure(figsize=(6, 4))\n",
    "sns.histplot(df[\"DelayMinutes\"], bins=50, kde=True)\n",
    "plt.title(\"Distribution of Flight Delay (minutes)\")\n",
    "plt.xlabel(\"Delay in Minutes\")\n",
    "plt.ylabel(\"Frequency\")\n",
    "plt.show()"
   ]
  },
  {
   "cell_type": "code",
   "execution_count": null,
   "id": "4caf7d32",
   "metadata": {
    "vscode": {
     "languageId": "plaintext"
    }
   },
   "outputs": [],
   "source": [
    "# Check outliers in delay\n",
    "plt.figure(figsize=(6, 4))\n",
    "sns.boxplot(x=df[\"DelayMinutes\"])\n",
    "plt.title(\"Boxplot of Delay Minutes\")\n",
    "plt.show()"
   ]
  },
  {
   "cell_type": "code",
   "execution_count": null,
   "id": "89ed3527",
   "metadata": {
    "vscode": {
     "languageId": "plaintext"
    }
   },
   "outputs": [],
   "source": [
    "# Distribution of Flights by Day of Week\n",
    "sns.countplot(x=\"DayOfWeek\", data=df)\n",
    "plt.title(\"Flights by Day of Week\")\n",
    "plt.xlabel(\"Day\")\n",
    "plt.ylabel(\"Flight Count\")\n",
    "plt.show()"
   ]
  },
  {
   "cell_type": "code",
   "execution_count": null,
   "id": "280f9ae4",
   "metadata": {
    "vscode": {
     "languageId": "plaintext"
    }
   },
   "outputs": [],
   "source": [
    "# Airline frequency\n",
    "airline_counts = df[\"Airline\"].value_counts()\n",
    "airline_counts.plot(kind=\"bar\", figsize=(8, 4), color=\"skyblue\")\n",
    "plt.title(\"Flight Count per Airline\")\n",
    "plt.ylabel(\"Count\")\n",
    "plt.xticks(rotation=45)\n",
    "plt.show()"
   ]
  },
  {
   "cell_type": "code",
   "execution_count": null,
   "id": "a33596fe",
   "metadata": {
    "vscode": {
     "languageId": "plaintext"
    }
   },
   "outputs": [],
   "source": [
    "# Scatter plot of Distance vs Delay\n",
    "plt.figure(figsize=(6, 4))\n",
    "sns.scatterplot(x=\"Distance\", y=\"DelayMinutes\", data=df)\n",
    "plt.title(\"Flight Distance vs Delay\")\n",
    "plt.xlabel(\"Distance (km)\")\n",
    "plt.ylabel(\"Delay (min)\")\n",
    "plt.show()"
   ]
  },
  {
   "cell_type": "code",
   "execution_count": null,
   "id": "0217a03c",
   "metadata": {
    "vscode": {
     "languageId": "plaintext"
    }
   },
   "outputs": [],
   "source": [
    "# Encoding categorical columns\n",
    "categorical_cols = [\"Airline\", \"Origin\", \"Destination\", \"Weather\"]\n",
    "label_encoded = []\n",
    "for col in categorical_cols:\n",
    "    if df[col].nunique() <= 2:  # Binary\n",
    "        le = LabelEncoder()\n",
    "        df[col] = le.fit_transform(df[col])\n",
    "        label_encoded.append(col)\n",
    "    else:\n",
    "        df = pd.get_dummies(df, columns=[col], drop_first=True)"
   ]
  },
  {
   "cell_type": "code",
   "execution_count": null,
   "id": "a23203a6",
   "metadata": {
    "vscode": {
     "languageId": "plaintext"
    }
   },
   "outputs": [],
   "source": [
    "print(f\"Label Encoded: {label_encoded} | One-Hot Encoded: {[col for col in categorical_cols if col not in label_encoded]}\")"
   ]
  },
  {
   "cell_type": "code",
   "execution_count": null,
   "id": "12fafa20",
   "metadata": {
    "vscode": {
     "languageId": "plaintext"
    }
   },
   "outputs": [],
   "source": [
    "# Standardize numerical features\n",
    "scaler = StandardScaler()\n",
    "numeric_cols = [\"Distance\", \"DepartureTime\", \"ArrivalTime\", \"DelayMinutes\"]\n",
    "df[numeric_cols] = scaler.fit_transform(df[numeric_cols])\n",
    "print(\"Numerical features standardized\")"
   ]
  },
  {
   "cell_type": "code",
   "execution_count": null,
   "id": "c73a1e07",
   "metadata": {
    "vscode": {
     "languageId": "plaintext"
    }
   },
   "outputs": [],
   "source": [
    "# Correlation heatmap (excluding dummies)\n",
    "corr_cols = [col for col in df.columns if df[col].dtype in ['float64', 'int64']]\n",
    "plt.figure(figsize=(10, 8))\n",
    "sns.heatmap(df[corr_cols].corr(), annot=True, cmap='coolwarm')\n",
    "plt.title(\"Correlation Heatmap\")\n",
    "plt.show()"
   ]
  },
  {
   "cell_type": "code",
   "execution_count": null,
   "id": "7aea8fc2",
   "metadata": {
    "vscode": {
     "languageId": "plaintext"
    }
   },
   "outputs": [],
   "source": [
    "# Variance Inflation Factor\n",
    "X_vif = df.drop(columns=[\"DelayMinutes\"])  # Target column\n",
    "vif_data = pd.DataFrame()\n",
    "vif_data[\"Feature\"] = X_vif.columns\n",
    "vif_data[\"VIF\"] = [variance_inflation_factor(X_vif.values, i) for i in range(X_vif.shape[1])]\n",
    "print(\"VIF Scores:\")\n",
    "print(vif_data)"
   ]
  },
  {
   "cell_type": "markdown",
   "id": "8a81557b",
   "metadata": {},
   "source": [
    "Model Training, Evaluation & Selection"
   ]
  },
  {
   "cell_type": "code",
   "execution_count": null,
   "id": "2c7073ae",
   "metadata": {
    "vscode": {
     "languageId": "plaintext"
    }
   },
   "outputs": [],
   "source": [
    "import pandas as pd\n",
    "import numpy as np\n",
    "from sklearn.linear_model import LinearRegression\n",
    "from sklearn.tree import DecisionTreeRegressor\n",
    "from sklearn.ensemble import RandomForestRegressor\n",
    "from sklearn.model_selection import train_test_split\n",
    "from sklearn.metrics import mean_squared_error, r2_score\n",
    "import matplotlib.pyplot as plt\n",
    "import joblib"
   ]
  },
  {
   "cell_type": "code",
   "execution_count": null,
   "id": "44fb1986",
   "metadata": {
    "vscode": {
     "languageId": "plaintext"
    }
   },
   "outputs": [],
   "source": [
    "# Load preprocessed dataset\n",
    "df = pd.read_csv(\"processed_flight_data.csv\")  # Replace with your updated CSV\n"
   ]
  },
  {
   "cell_type": "code",
   "execution_count": null,
   "id": "55355b43",
   "metadata": {
    "vscode": {
     "languageId": "plaintext"
    }
   },
   "outputs": [],
   "source": [
    "# Define features and target\n",
    "X = df.drop(columns=[\"DelayMinutes\"])  # Adjust target if needed\n",
    "y = df[\"DelayMinutes\"]"
   ]
  },
  {
   "cell_type": "code",
   "execution_count": null,
   "id": "9866af62",
   "metadata": {
    "vscode": {
     "languageId": "plaintext"
    }
   },
   "outputs": [],
   "source": [
    "# Split dataset\n",
    "X_train, X_test, y_train, y_test = train_test_split(X, y, test_size=0.2, random_state=42)"
   ]
  },
  {
   "cell_type": "code",
   "execution_count": null,
   "id": "f5adcb3a",
   "metadata": {
    "vscode": {
     "languageId": "plaintext"
    }
   },
   "outputs": [],
   "source": [
    "# Initialize models\n",
    "models = {\n",
    "    \"LinearRegression\": LinearRegression(),\n",
    "    \"DecisionTree\": DecisionTreeRegressor(max_depth=10, random_state=42),\n",
    "    \"RandomForest\": RandomForestRegressor(n_estimators=100, random_state=42)\n",
    "}\n",
    "\n",
    "results = {}"
   ]
  },
  {
   "cell_type": "code",
   "execution_count": null,
   "id": "f470d219",
   "metadata": {
    "vscode": {
     "languageId": "plaintext"
    }
   },
   "outputs": [],
   "source": [
    "# Train & Evaluate each model\n",
    "for name, model in models.items():\n",
    "    model.fit(X_train, y_train)\n",
    "    y_pred_train = model.predict(X_train)\n",
    "    y_pred_test = model.predict(X_test)\n",
    "\n",
    "    train_mse = mean_squared_error(y_train, y_pred_train)\n",
    "    test_mse = mean_squared_error(y_test, y_pred_test)\n",
    "    r2 = r2_score(y_test, y_pred_test)\n",
    "\n",
    "    results[name] = {\n",
    "        \"Train MSE\": train_mse,\n",
    "        \"Test MSE\": test_mse,\n",
    "        \"R2 Score\": r2\n",
    "    }\n",
    "\n",
    "    print(f\"{name} — Test MSE: {test_mse:.2f}, R²: {r2:.2f}\")"
   ]
  },
  {
   "cell_type": "code",
   "execution_count": null,
   "id": "4b5f1f35",
   "metadata": {
    "vscode": {
     "languageId": "plaintext"
    }
   },
   "outputs": [],
   "source": [
    "# Plot Loss Curve\n",
    "for name, model in models.items():\n",
    "    y_pred_test = model.predict(X_test)\n",
    "    residuals = y_test - y_pred_test\n",
    "    plt.plot(np.arange(len(residuals)), residuals, label=name)\n",
    "\n",
    "plt.legend()\n",
    "plt.title(\"Residuals / Loss Curves\")\n",
    "plt.xlabel(\"Sample Index\")\n",
    "plt.ylabel(\"Residuals\")\n",
    "plt.show()"
   ]
  },
  {
   "cell_type": "code",
   "execution_count": null,
   "id": "5f371948",
   "metadata": {
    "vscode": {
     "languageId": "plaintext"
    }
   },
   "outputs": [],
   "source": [
    "# Scatter Plot: Actual vs Predicted\n",
    "best_model_name = min(results, key=lambda k: results[k][\"Test MSE\"])\n",
    "best_model = models[best_model_name]\n",
    "y_best_pred = best_model.predict(X_test)\n",
    "\n",
    "plt.figure(figsize=(6, 6))\n",
    "plt.scatter(y_test, y_best_pred, alpha=0.5)\n",
    "plt.plot([y_test.min(), y_test.max()], [y_test.min(), y_test.max()], '--r')\n",
    "plt.title(f\"{best_model_name}: Actual vs Predicted Delay\")\n",
    "plt.xlabel(\"Actual Delay (min)\")\n",
    "plt.ylabel(\"Predicted Delay (min)\")\n",
    "plt.grid(True)\n",
    "plt.show()"
   ]
  },
  {
   "cell_type": "code",
   "execution_count": null,
   "id": "436f3bf3",
   "metadata": {
    "vscode": {
     "languageId": "plaintext"
    }
   },
   "outputs": [],
   "source": [
    "# Save the best model\n",
    "joblib.dump(best_model, \"best_model.pkl\")\n",
    "print(f\"✅ Saved best model: {best_model_name}\")"
   ]
  },
  {
   "cell_type": "markdown",
   "id": "6824db4c",
   "metadata": {},
   "source": [
    "Old Code"
   ]
  },
  {
   "cell_type": "code",
   "execution_count": null,
   "id": "d21b8947",
   "metadata": {
    "vscode": {
     "languageId": "plaintext"
    }
   },
   "outputs": [],
   "source": [
    "# Calculate derived features\n",
    "df[\"DepartureDelay\"] = pd.to_datetime(df[\"ActualDeparture\"]) - pd.to_datetime(df[\"ScheduledDeparture\"]\n",
    "df[\"DepartureDelayMinutes\"] = df[\"DepartureDelay\"].dt.total_seconds() / 60"
   ]
  },
  {
   "cell_type": "code",
   "execution_count": null,
   "id": "77566ca0",
   "metadata": {
    "vscode": {
     "languageId": "plaintext"
    }
   },
   "outputs": [],
   "source": [
    "# Categorical Overview\n",
    "plt.figure(figsize=(10, 4))\n",
    "sns.countplot(y=\"Airline\", data=df, order=df[\"Airline\"].value_counts().index)\n",
    "plt.title(\"Flight Count per Airline\")\n",
    "plt.xlabel(\"Count\")\n",
    "plt.ylabel(\"Airline\")\n",
    "plt.show()"
   ]
  },
  {
   "cell_type": "code",
   "execution_count": null,
   "id": "d205e334",
   "metadata": {
    "vscode": {
     "languageId": "plaintext"
    }
   },
   "outputs": [],
   "source": [
    "plt.figure(figsize=(12, 4))\n",
    "sns.countplot(x=\"Origin\", data=df, order=df[\"Origin\"].value_counts().index)\n",
    "plt.title(\"Departure Flights by Origin Airport\")\n",
    "plt.xlabel(\"Origin\")\n",
    "plt.ylabel(\"Count\")\n",
    "plt.xticks(rotation=45)\n",
    "plt.show()\n"
   ]
  },
  {
   "cell_type": "code",
   "execution_count": null,
   "id": "c2bd37b7",
   "metadata": {
    "vscode": {
     "languageId": "plaintext"
    }
   },
   "outputs": [],
   "source": [
    "# Distribution of Departure Delay\n",
    "sns.histplot(df[\"DepartureDelayMinutes\"], bins=50, kde=True)\n",
    "plt.title(\"Distribution of Departure Delays (minutes)\")\n",
    "plt.xlabel(\"Departure Delay (min)\")\n",
    "plt.ylabel(\"Frequency\")\n",
    "plt.show()"
   ]
  },
  {
   "cell_type": "code",
   "execution_count": null,
   "id": "b42ce039",
   "metadata": {
    "vscode": {
     "languageId": "plaintext"
    }
   },
   "outputs": [],
   "source": [
    "# Target Delay Distribution\n",
    "sns.histplot(df[\"DelayMinutes\"], bins=50, color=\"orange\", kde=True)\n",
    "plt.title(\"Reported Delay Minutes Distribution\")\n",
    "plt.xlabel(\"Delay Minutes\")\n",
    "plt.ylabel(\"Frequency\")\n",
    "plt.show()"
   ]
  },
  {
   "cell_type": "code",
   "execution_count": null,
   "id": "5bc04b52",
   "metadata": {
    "vscode": {
     "languageId": "plaintext"
    }
   },
   "outputs": [],
   "source": [
    "# Early Arrival Patterns\n",
    "sns.boxplot(x=\"Airline\", y=\"EarlyArrival\", data=df)\n",
    "plt.xticks(rotation=45)\n",
    "plt.title(\"Early Arrival Distribution by Airline\")\n",
    "plt.ylabel(\"Early Arrival (min)\")\n",
    "plt.show()"
   ]
  },
  {
   "cell_type": "code",
   "execution_count": null,
   "id": "a3b908b5",
   "metadata": {
    "vscode": {
     "languageId": "plaintext"
    }
   },
   "outputs": [],
   "source": [
    "# Encode categorical columns\n",
    "cat_cols = [\"Airline\", \"Origin\", \"Destination\"]\n",
    "df_encoded = pd.get_dummies(df, columns=cat_cols, drop_first=True)"
   ]
  },
  {
   "cell_type": "code",
   "execution_count": null,
   "id": "6edd7206",
   "metadata": {
    "vscode": {
     "languageId": "plaintext"
    }
   },
   "outputs": [],
   "source": [
    "# Standardize numerical features\n",
    "scaler = StandardScaler()\n",
    "num_cols = [\"DelayMinutes\", \"EarlyArrival\", \"DepartureDelayMinutes\"]\n",
    "df_encoded[num_cols] = scaler.fit_transform(df_encoded[num_cols])"
   ]
  },
  {
   "cell_type": "code",
   "execution_count": null,
   "id": "13c7dbba",
   "metadata": {
    "vscode": {
     "languageId": "plaintext"
    }
   },
   "outputs": [],
   "source": [
    "# Confirm standardization\n",
    "print(df_encoded[num_cols].describe())"
   ]
  },
  {
   "cell_type": "code",
   "execution_count": null,
   "id": "a745d80f",
   "metadata": {
    "vscode": {
     "languageId": "plaintext"
    }
   },
   "outputs": [],
   "source": [
    "for col in numeric_cols:\n",
    "    sns.histplot(df[col], kde=True)\n",
    "    plt.title(f'Distribution of {col} After Scaling')\n",
    "    plt.xlabel(col)\n",
    "    plt.ylabel('Frequency')\n",
    "    plt.show()"
   ]
  }
 ],
 "metadata": {
  "language_info": {
   "name": "python"
  }
 },
 "nbformat": 4,
 "nbformat_minor": 5
}
